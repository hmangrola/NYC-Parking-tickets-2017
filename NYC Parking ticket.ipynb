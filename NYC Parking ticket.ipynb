{
 "cells": [
  {
   "cell_type": "markdown",
   "metadata": {},
   "source": [
    "### NYC Parking Tickets\n",
    "\n",
    "NYC, with a population of 8.5 million and 61.8 million visitors in the year of 2017 had whooping number of vehicle violation tickets issued. I have used the data for the tickets issued in the fiscal year 2017 from [Kaggle.](https://www.kaggle.com/new-york-city/nyc-parking-tickets) There are different csv for each fiscal year and can be used from the link. <br>\n",
    "\n",
    "I have used [information from NYC site](https://data.ny.gov/api/assets/83055271-29A6-4ED4-9374-E159F30DB5AE) to understand the terms used in the dataset.<br><br>"
   ]
  },
  {
   "cell_type": "code",
   "execution_count": 1,
   "metadata": {},
   "outputs": [],
   "source": [
    "#import libraries\n",
    "import pandas as pd\n",
    "import numpy as np\n",
    "import matplotlib.pyplot as plt\n",
    "import seaborn as sns"
   ]
  },
  {
   "cell_type": "code",
   "execution_count": 2,
   "metadata": {},
   "outputs": [
    {
     "name": "stderr",
     "output_type": "stream",
     "text": [
      "C:\\Users\\Baby Panda\\Anaconda\\lib\\site-packages\\IPython\\core\\interactiveshell.py:2728: DtypeWarning: Columns (18,38) have mixed types. Specify dtype option on import or set low_memory=False.\n",
      "  interactivity=interactivity, compiler=compiler, result=result)\n"
     ]
    }
   ],
   "source": [
    "#import dataset\n",
    "data_2017 = pd.read_csv('2016-2017.csv')"
   ]
  },
  {
   "cell_type": "code",
   "execution_count": 3,
   "metadata": {},
   "outputs": [
    {
     "name": "stdout",
     "output_type": "stream",
     "text": [
      "Tickets issued by NYC in fiscal year 2017:  10803028\n"
     ]
    }
   ],
   "source": [
    "#Tickets collected in each fiscal year\n",
    "print (\"Tickets issued by NYC in fiscal year 2017: \",(data_2017['Summons Number'].count()) )"
   ]
  },
  {
   "cell_type": "markdown",
   "metadata": {},
   "source": [
    "<br>\n",
    "### The number of tickets issued in fiscal year 2017 is more than 10 million !\n",
    "<br><br>"
   ]
  },
  {
   "cell_type": "code",
   "execution_count": 4,
   "metadata": {
    "scrolled": true
   },
   "outputs": [
    {
     "data": {
      "text/html": [
       "<div>\n",
       "<style scoped>\n",
       "    .dataframe tbody tr th:only-of-type {\n",
       "        vertical-align: middle;\n",
       "    }\n",
       "\n",
       "    .dataframe tbody tr th {\n",
       "        vertical-align: top;\n",
       "    }\n",
       "\n",
       "    .dataframe thead th {\n",
       "        text-align: right;\n",
       "    }\n",
       "</style>\n",
       "<table border=\"1\" class=\"dataframe\">\n",
       "  <thead>\n",
       "    <tr style=\"text-align: right;\">\n",
       "      <th></th>\n",
       "      <th>Summons Number</th>\n",
       "      <th>Plate ID</th>\n",
       "      <th>Registration State</th>\n",
       "      <th>Plate Type</th>\n",
       "      <th>Issue Date</th>\n",
       "      <th>Violation Code</th>\n",
       "      <th>Vehicle Body Type</th>\n",
       "      <th>Vehicle Make</th>\n",
       "      <th>Issuing Agency</th>\n",
       "      <th>Street Code1</th>\n",
       "      <th>...</th>\n",
       "      <th>Vehicle Color</th>\n",
       "      <th>Unregistered Vehicle?</th>\n",
       "      <th>Vehicle Year</th>\n",
       "      <th>Meter Number</th>\n",
       "      <th>Feet From Curb</th>\n",
       "      <th>Violation Post Code</th>\n",
       "      <th>Violation Description</th>\n",
       "      <th>No Standing or Stopping Violation</th>\n",
       "      <th>Hydrant Violation</th>\n",
       "      <th>Double Parking Violation</th>\n",
       "    </tr>\n",
       "  </thead>\n",
       "  <tbody>\n",
       "    <tr>\n",
       "      <th>0</th>\n",
       "      <td>5092469481</td>\n",
       "      <td>GZH7067</td>\n",
       "      <td>NY</td>\n",
       "      <td>PAS</td>\n",
       "      <td>07/10/2016</td>\n",
       "      <td>7</td>\n",
       "      <td>SUBN</td>\n",
       "      <td>TOYOT</td>\n",
       "      <td>V</td>\n",
       "      <td>0</td>\n",
       "      <td>...</td>\n",
       "      <td>GY</td>\n",
       "      <td>NaN</td>\n",
       "      <td>2001</td>\n",
       "      <td>NaN</td>\n",
       "      <td>0</td>\n",
       "      <td>NaN</td>\n",
       "      <td>FAILURE TO STOP AT RED LIGHT</td>\n",
       "      <td>NaN</td>\n",
       "      <td>NaN</td>\n",
       "      <td>NaN</td>\n",
       "    </tr>\n",
       "    <tr>\n",
       "      <th>1</th>\n",
       "      <td>5092451658</td>\n",
       "      <td>GZH7067</td>\n",
       "      <td>NY</td>\n",
       "      <td>PAS</td>\n",
       "      <td>07/08/2016</td>\n",
       "      <td>7</td>\n",
       "      <td>SUBN</td>\n",
       "      <td>TOYOT</td>\n",
       "      <td>V</td>\n",
       "      <td>0</td>\n",
       "      <td>...</td>\n",
       "      <td>GY</td>\n",
       "      <td>NaN</td>\n",
       "      <td>2001</td>\n",
       "      <td>NaN</td>\n",
       "      <td>0</td>\n",
       "      <td>NaN</td>\n",
       "      <td>FAILURE TO STOP AT RED LIGHT</td>\n",
       "      <td>NaN</td>\n",
       "      <td>NaN</td>\n",
       "      <td>NaN</td>\n",
       "    </tr>\n",
       "    <tr>\n",
       "      <th>2</th>\n",
       "      <td>4006265037</td>\n",
       "      <td>FZX9232</td>\n",
       "      <td>NY</td>\n",
       "      <td>PAS</td>\n",
       "      <td>08/23/2016</td>\n",
       "      <td>5</td>\n",
       "      <td>SUBN</td>\n",
       "      <td>FORD</td>\n",
       "      <td>V</td>\n",
       "      <td>0</td>\n",
       "      <td>...</td>\n",
       "      <td>BK</td>\n",
       "      <td>NaN</td>\n",
       "      <td>2004</td>\n",
       "      <td>NaN</td>\n",
       "      <td>0</td>\n",
       "      <td>NaN</td>\n",
       "      <td>BUS LANE VIOLATION</td>\n",
       "      <td>NaN</td>\n",
       "      <td>NaN</td>\n",
       "      <td>NaN</td>\n",
       "    </tr>\n",
       "    <tr>\n",
       "      <th>3</th>\n",
       "      <td>8478629828</td>\n",
       "      <td>66623ME</td>\n",
       "      <td>NY</td>\n",
       "      <td>COM</td>\n",
       "      <td>06/14/2017</td>\n",
       "      <td>47</td>\n",
       "      <td>REFG</td>\n",
       "      <td>MITSU</td>\n",
       "      <td>T</td>\n",
       "      <td>10610</td>\n",
       "      <td>...</td>\n",
       "      <td>WH</td>\n",
       "      <td>NaN</td>\n",
       "      <td>2007</td>\n",
       "      <td>NaN</td>\n",
       "      <td>0</td>\n",
       "      <td>04</td>\n",
       "      <td>47-Double PKG-Midtown</td>\n",
       "      <td>NaN</td>\n",
       "      <td>NaN</td>\n",
       "      <td>NaN</td>\n",
       "    </tr>\n",
       "    <tr>\n",
       "      <th>4</th>\n",
       "      <td>7868300310</td>\n",
       "      <td>37033JV</td>\n",
       "      <td>NY</td>\n",
       "      <td>COM</td>\n",
       "      <td>11/21/2016</td>\n",
       "      <td>69</td>\n",
       "      <td>DELV</td>\n",
       "      <td>INTER</td>\n",
       "      <td>T</td>\n",
       "      <td>10510</td>\n",
       "      <td>...</td>\n",
       "      <td>WHITE</td>\n",
       "      <td>NaN</td>\n",
       "      <td>2007</td>\n",
       "      <td>NaN</td>\n",
       "      <td>0</td>\n",
       "      <td>31 6</td>\n",
       "      <td>69-Failure to Disp Muni Recpt</td>\n",
       "      <td>NaN</td>\n",
       "      <td>NaN</td>\n",
       "      <td>NaN</td>\n",
       "    </tr>\n",
       "  </tbody>\n",
       "</table>\n",
       "<p>5 rows × 43 columns</p>\n",
       "</div>"
      ],
      "text/plain": [
       "   Summons Number Plate ID Registration State Plate Type  Issue Date  \\\n",
       "0      5092469481  GZH7067                 NY        PAS  07/10/2016   \n",
       "1      5092451658  GZH7067                 NY        PAS  07/08/2016   \n",
       "2      4006265037  FZX9232                 NY        PAS  08/23/2016   \n",
       "3      8478629828  66623ME                 NY        COM  06/14/2017   \n",
       "4      7868300310  37033JV                 NY        COM  11/21/2016   \n",
       "\n",
       "   Violation Code Vehicle Body Type Vehicle Make Issuing Agency  Street Code1  \\\n",
       "0               7              SUBN        TOYOT              V             0   \n",
       "1               7              SUBN        TOYOT              V             0   \n",
       "2               5              SUBN         FORD              V             0   \n",
       "3              47              REFG        MITSU              T         10610   \n",
       "4              69              DELV        INTER              T         10510   \n",
       "\n",
       "            ...             Vehicle Color  Unregistered Vehicle?  \\\n",
       "0           ...                        GY                    NaN   \n",
       "1           ...                        GY                    NaN   \n",
       "2           ...                        BK                    NaN   \n",
       "3           ...                        WH                    NaN   \n",
       "4           ...                     WHITE                    NaN   \n",
       "\n",
       "   Vehicle Year  Meter Number  Feet From Curb  Violation Post Code  \\\n",
       "0          2001           NaN               0                  NaN   \n",
       "1          2001           NaN               0                  NaN   \n",
       "2          2004           NaN               0                  NaN   \n",
       "3          2007           NaN               0                   04   \n",
       "4          2007           NaN               0                 31 6   \n",
       "\n",
       "           Violation Description No Standing or Stopping Violation  \\\n",
       "0   FAILURE TO STOP AT RED LIGHT                               NaN   \n",
       "1   FAILURE TO STOP AT RED LIGHT                               NaN   \n",
       "2             BUS LANE VIOLATION                               NaN   \n",
       "3          47-Double PKG-Midtown                               NaN   \n",
       "4  69-Failure to Disp Muni Recpt                               NaN   \n",
       "\n",
       "  Hydrant Violation Double Parking Violation  \n",
       "0               NaN                      NaN  \n",
       "1               NaN                      NaN  \n",
       "2               NaN                      NaN  \n",
       "3               NaN                      NaN  \n",
       "4               NaN                      NaN  \n",
       "\n",
       "[5 rows x 43 columns]"
      ]
     },
     "execution_count": 4,
     "metadata": {},
     "output_type": "execute_result"
    }
   ],
   "source": [
    "data_2017.head()"
   ]
  },
  {
   "cell_type": "markdown",
   "metadata": {},
   "source": [
    "<br>Selecting features for analysis and creating a dataframe<br>"
   ]
  },
  {
   "cell_type": "code",
   "execution_count": 5,
   "metadata": {},
   "outputs": [],
   "source": [
    "#Selecting features for analysis\n",
    "dataset = data_2017[['Summons Number', 'Registration State', 'Plate ID', 'Issue Date','Violation Code', 'Vehicle Body Type', \n",
    "                     'Vehicle Make',\n",
    "                      'Violation County']]"
   ]
  },
  {
   "cell_type": "code",
   "execution_count": 6,
   "metadata": {},
   "outputs": [
    {
     "name": "stdout",
     "output_type": "stream",
     "text": [
      "Number of unique values in Registration State    67\n",
      "dtype: int64\n"
     ]
    }
   ],
   "source": [
    "#The number of unique values in Registration State\n",
    "state = pd.value_counts(dataset['Registration State'])\n",
    "unique_state = pd.Series({'Number of unique values in Registration State': len(state)})\n",
    "\n",
    "print(unique_state)"
   ]
  },
  {
   "cell_type": "markdown",
   "metadata": {},
   "source": [
    "<br>The number of unique values for registration state is found to be 67, whereas United States has only 50 states. There is some discripency in the data or we can also consider that there are vehicles from other countries driving around in the city. <br><br>"
   ]
  },
  {
   "cell_type": "code",
   "execution_count": 7,
   "metadata": {},
   "outputs": [
    {
     "data": {
      "image/png": "[encoded data removed]",
      "text/plain": [
       "<matplotlib.figure.Figure at 0x2b44f25f3c8>"
      ]
     },
     "metadata": {},
     "output_type": "display_data"
    }
   ],
   "source": [
    "xbar = dataset['Registration State'].value_counts().index\n",
    "heights = dataset['Registration State'].value_counts()\n",
    "ybar = np.arange(len(xbar))\n",
    "fig = plt.figure(figsize=(15,14)) \n",
    "# Create horizontal bars\n",
    "plt.barh(ybar, heights)\n",
    " \n",
    "# Create names on the y-axis\n",
    "plt.yticks(ybar, xbar)\n",
    " \n",
    "# Show graphic\n",
    "plt.show()"
   ]
  },
  {
   "cell_type": "markdown",
   "metadata": {},
   "source": [
    "<br><br>The number plates registered with NY has obtained the most violation ticket followed by New Jersy, Pennsylvania, Florida and Connecticut.<br><br>"
   ]
  },
  {
   "cell_type": "code",
   "execution_count": 8,
   "metadata": {},
   "outputs": [],
   "source": [
    "#I will for now focus on the tickets to cars registered with state of New York\n",
    "\n",
    "dataset = dataset[dataset['Registration State'] == 'NY']"
   ]
  },
  {
   "cell_type": "code",
   "execution_count": 9,
   "metadata": {},
   "outputs": [],
   "source": [
    "#Modifying the issue date, extracting the issue month\n",
    "dataset['Date'] = pd.to_datetime(dataset['Issue Date']) # Convert date to datetime\n",
    "dataset['Issue Month'] = dataset['Date'].dt.month #extract month from Issue Date"
   ]
  },
  {
   "cell_type": "code",
   "execution_count": 10,
   "metadata": {},
   "outputs": [
    {
     "data": {
      "text/html": [
       "<div>\n",
       "<style scoped>\n",
       "    .dataframe tbody tr th:only-of-type {\n",
       "        vertical-align: middle;\n",
       "    }\n",
       "\n",
       "    .dataframe tbody tr th {\n",
       "        vertical-align: top;\n",
       "    }\n",
       "\n",
       "    .dataframe thead th {\n",
       "        text-align: right;\n",
       "    }\n",
       "</style>\n",
       "<table border=\"1\" class=\"dataframe\">\n",
       "  <thead>\n",
       "    <tr style=\"text-align: right;\">\n",
       "      <th></th>\n",
       "      <th>Summons Number</th>\n",
       "      <th>Registration State</th>\n",
       "      <th>Plate ID</th>\n",
       "      <th>Issue Date</th>\n",
       "      <th>Violation Code</th>\n",
       "      <th>Vehicle Body Type</th>\n",
       "      <th>Vehicle Make</th>\n",
       "      <th>Violation County</th>\n",
       "      <th>Date</th>\n",
       "      <th>Issue Month</th>\n",
       "    </tr>\n",
       "  </thead>\n",
       "  <tbody>\n",
       "    <tr>\n",
       "      <th>0</th>\n",
       "      <td>5092469481</td>\n",
       "      <td>NY</td>\n",
       "      <td>GZH7067</td>\n",
       "      <td>07/10/2016</td>\n",
       "      <td>7</td>\n",
       "      <td>SUBN</td>\n",
       "      <td>TOYOT</td>\n",
       "      <td>BX</td>\n",
       "      <td>2016-07-10</td>\n",
       "      <td>7</td>\n",
       "    </tr>\n",
       "    <tr>\n",
       "      <th>1</th>\n",
       "      <td>5092451658</td>\n",
       "      <td>NY</td>\n",
       "      <td>GZH7067</td>\n",
       "      <td>07/08/2016</td>\n",
       "      <td>7</td>\n",
       "      <td>SUBN</td>\n",
       "      <td>TOYOT</td>\n",
       "      <td>BX</td>\n",
       "      <td>2016-07-08</td>\n",
       "      <td>7</td>\n",
       "    </tr>\n",
       "    <tr>\n",
       "      <th>2</th>\n",
       "      <td>4006265037</td>\n",
       "      <td>NY</td>\n",
       "      <td>FZX9232</td>\n",
       "      <td>08/23/2016</td>\n",
       "      <td>5</td>\n",
       "      <td>SUBN</td>\n",
       "      <td>FORD</td>\n",
       "      <td>BX</td>\n",
       "      <td>2016-08-23</td>\n",
       "      <td>8</td>\n",
       "    </tr>\n",
       "    <tr>\n",
       "      <th>3</th>\n",
       "      <td>8478629828</td>\n",
       "      <td>NY</td>\n",
       "      <td>66623ME</td>\n",
       "      <td>06/14/2017</td>\n",
       "      <td>47</td>\n",
       "      <td>REFG</td>\n",
       "      <td>MITSU</td>\n",
       "      <td>NY</td>\n",
       "      <td>2017-06-14</td>\n",
       "      <td>6</td>\n",
       "    </tr>\n",
       "    <tr>\n",
       "      <th>4</th>\n",
       "      <td>7868300310</td>\n",
       "      <td>NY</td>\n",
       "      <td>37033JV</td>\n",
       "      <td>11/21/2016</td>\n",
       "      <td>69</td>\n",
       "      <td>DELV</td>\n",
       "      <td>INTER</td>\n",
       "      <td>NY</td>\n",
       "      <td>2016-11-21</td>\n",
       "      <td>11</td>\n",
       "    </tr>\n",
       "  </tbody>\n",
       "</table>\n",
       "</div>"
      ],
      "text/plain": [
       "   Summons Number Registration State Plate ID  Issue Date  Violation Code  \\\n",
       "0      5092469481                 NY  GZH7067  07/10/2016               7   \n",
       "1      5092451658                 NY  GZH7067  07/08/2016               7   \n",
       "2      4006265037                 NY  FZX9232  08/23/2016               5   \n",
       "3      8478629828                 NY  66623ME  06/14/2017              47   \n",
       "4      7868300310                 NY  37033JV  11/21/2016              69   \n",
       "\n",
       "  Vehicle Body Type Vehicle Make Violation County       Date  Issue Month  \n",
       "0              SUBN        TOYOT               BX 2016-07-10            7  \n",
       "1              SUBN        TOYOT               BX 2016-07-08            7  \n",
       "2              SUBN         FORD               BX 2016-08-23            8  \n",
       "3              REFG        MITSU               NY 2017-06-14            6  \n",
       "4              DELV        INTER               NY 2016-11-21           11  "
      ]
     },
     "execution_count": 10,
     "metadata": {},
     "output_type": "execute_result"
    }
   ],
   "source": [
    "dataset.head()"
   ]
  },
  {
   "cell_type": "markdown",
   "metadata": {},
   "source": [
    "### Analyzing which county has the most and least violation \n",
    "\n",
    "New York City has five boroughs relating to five counties of the NYC. The borough and counties are as follows:\n",
    "1. Manhattan - New York County\n",
    "2. Bronx - Bronx County\n",
    "3. Brooklyn - Kings County\n",
    "4. Queens - Queens County\n",
    "5. Staten Island - Richmond County\n",
    "\n"
   ]
  },
  {
   "cell_type": "code",
   "execution_count": 11,
   "metadata": {},
   "outputs": [],
   "source": [
    "violation_county = dataset"
   ]
  },
  {
   "cell_type": "code",
   "execution_count": 12,
   "metadata": {},
   "outputs": [
    {
     "data": {
      "text/plain": [
       "array(['BX', 'NY', 'QN', 'Q', 'K', 'R', 'ST', 'MN', 'BK', nan, 'BRONX',\n",
       "       'QNS', 'KINGS'], dtype=object)"
      ]
     },
     "execution_count": 12,
     "metadata": {},
     "output_type": "execute_result"
    }
   ],
   "source": [
    "violation_county['Violation County'].unique()"
   ]
  },
  {
   "cell_type": "markdown",
   "metadata": {},
   "source": [
    "<br>We can see the values in Violation county has been interchangably used with the name of the boroughs and some of the values are null.<br>\n",
    "\n",
    "For our convinience of understanding, I will change the varied names to the respective borough names and delete the null values. We can also replace the null value with the median value but here, I have decided to just drop them instead of replacing them.<br>"
   ]
  },
  {
   "cell_type": "code",
   "execution_count": 13,
   "metadata": {},
   "outputs": [],
   "source": [
    "violation_county['Violation County'] = violation_county['Violation County'].replace(['BX'], 'BRONX')\n",
    "violation_county['Violation County'] = violation_county['Violation County'].replace(['NY', 'MN'], 'MANHATTAN')\n",
    "violation_county['Violation County'] = violation_county['Violation County'].replace(['Q', 'QN', 'QNS'], 'QUEENS')\n",
    "violation_county['Violation County'] = violation_county['Violation County'].replace(['K', 'KINGS', 'BK'], 'BROOKLYN')\n",
    "violation_county['Violation County'] = violation_county['Violation County'].replace(['ST', 'R'], 'STATEN ISLAND')"
   ]
  },
  {
   "cell_type": "code",
   "execution_count": 14,
   "metadata": {},
   "outputs": [
    {
     "data": {
      "text/html": [
       "<div>\n",
       "<style scoped>\n",
       "    .dataframe tbody tr th:only-of-type {\n",
       "        vertical-align: middle;\n",
       "    }\n",
       "\n",
       "    .dataframe tbody tr th {\n",
       "        vertical-align: top;\n",
       "    }\n",
       "\n",
       "    .dataframe thead th {\n",
       "        text-align: right;\n",
       "    }\n",
       "</style>\n",
       "<table border=\"1\" class=\"dataframe\">\n",
       "  <thead>\n",
       "    <tr style=\"text-align: right;\">\n",
       "      <th></th>\n",
       "      <th>Summons Number</th>\n",
       "      <th>Registration State</th>\n",
       "      <th>Plate ID</th>\n",
       "      <th>Issue Date</th>\n",
       "      <th>Violation Code</th>\n",
       "      <th>Vehicle Body Type</th>\n",
       "      <th>Vehicle Make</th>\n",
       "      <th>Violation County</th>\n",
       "      <th>Date</th>\n",
       "      <th>Issue Month</th>\n",
       "    </tr>\n",
       "  </thead>\n",
       "  <tbody>\n",
       "    <tr>\n",
       "      <th>0</th>\n",
       "      <td>5092469481</td>\n",
       "      <td>NY</td>\n",
       "      <td>GZH7067</td>\n",
       "      <td>07/10/2016</td>\n",
       "      <td>7</td>\n",
       "      <td>SUBN</td>\n",
       "      <td>TOYOT</td>\n",
       "      <td>BRONX</td>\n",
       "      <td>2016-07-10</td>\n",
       "      <td>7</td>\n",
       "    </tr>\n",
       "    <tr>\n",
       "      <th>1</th>\n",
       "      <td>5092451658</td>\n",
       "      <td>NY</td>\n",
       "      <td>GZH7067</td>\n",
       "      <td>07/08/2016</td>\n",
       "      <td>7</td>\n",
       "      <td>SUBN</td>\n",
       "      <td>TOYOT</td>\n",
       "      <td>BRONX</td>\n",
       "      <td>2016-07-08</td>\n",
       "      <td>7</td>\n",
       "    </tr>\n",
       "    <tr>\n",
       "      <th>2</th>\n",
       "      <td>4006265037</td>\n",
       "      <td>NY</td>\n",
       "      <td>FZX9232</td>\n",
       "      <td>08/23/2016</td>\n",
       "      <td>5</td>\n",
       "      <td>SUBN</td>\n",
       "      <td>FORD</td>\n",
       "      <td>BRONX</td>\n",
       "      <td>2016-08-23</td>\n",
       "      <td>8</td>\n",
       "    </tr>\n",
       "    <tr>\n",
       "      <th>3</th>\n",
       "      <td>8478629828</td>\n",
       "      <td>NY</td>\n",
       "      <td>66623ME</td>\n",
       "      <td>06/14/2017</td>\n",
       "      <td>47</td>\n",
       "      <td>REFG</td>\n",
       "      <td>MITSU</td>\n",
       "      <td>MANHATTAN</td>\n",
       "      <td>2017-06-14</td>\n",
       "      <td>6</td>\n",
       "    </tr>\n",
       "    <tr>\n",
       "      <th>4</th>\n",
       "      <td>7868300310</td>\n",
       "      <td>NY</td>\n",
       "      <td>37033JV</td>\n",
       "      <td>11/21/2016</td>\n",
       "      <td>69</td>\n",
       "      <td>DELV</td>\n",
       "      <td>INTER</td>\n",
       "      <td>MANHATTAN</td>\n",
       "      <td>2016-11-21</td>\n",
       "      <td>11</td>\n",
       "    </tr>\n",
       "  </tbody>\n",
       "</table>\n",
       "</div>"
      ],
      "text/plain": [
       "   Summons Number Registration State Plate ID  Issue Date  Violation Code  \\\n",
       "0      5092469481                 NY  GZH7067  07/10/2016               7   \n",
       "1      5092451658                 NY  GZH7067  07/08/2016               7   \n",
       "2      4006265037                 NY  FZX9232  08/23/2016               5   \n",
       "3      8478629828                 NY  66623ME  06/14/2017              47   \n",
       "4      7868300310                 NY  37033JV  11/21/2016              69   \n",
       "\n",
       "  Vehicle Body Type Vehicle Make Violation County       Date  Issue Month  \n",
       "0              SUBN        TOYOT            BRONX 2016-07-10            7  \n",
       "1              SUBN        TOYOT            BRONX 2016-07-08            7  \n",
       "2              SUBN         FORD            BRONX 2016-08-23            8  \n",
       "3              REFG        MITSU        MANHATTAN 2017-06-14            6  \n",
       "4              DELV        INTER        MANHATTAN 2016-11-21           11  "
      ]
     },
     "execution_count": 14,
     "metadata": {},
     "output_type": "execute_result"
    }
   ],
   "source": [
    "violation_county=violation_county.dropna()\n",
    "violation_county.head()"
   ]
  },
  {
   "cell_type": "code",
   "execution_count": 15,
   "metadata": {},
   "outputs": [],
   "source": [
    "violation_county = violation_county[['Violation County']]"
   ]
  },
  {
   "cell_type": "code",
   "execution_count": 16,
   "metadata": {},
   "outputs": [
    {
     "data": {
      "image/png": "[encoded data removed]",
      "text/plain": [
       "<matplotlib.figure.Figure at 0x2b40edc20f0>"
      ]
     },
     "metadata": {},
     "output_type": "display_data"
    }
   ],
   "source": [
    "#plot the violation borough\n",
    "violation_county = violation_county['Violation County'].value_counts()\n",
    "\n",
    "plt.figure(figsize=(10,6))\n",
    "f = sns.barplot(y=violation_county.values, x=violation_county.index, palette=\"Blues_d\")\n",
    "# remove labels\n",
    "plt.tick_params(labelbottom='on')\n",
    "plt.ylabel('No. of cars', fontsize=16);\n",
    "plt.xlabel('County', fontsize=16);\n",
    "plt.title('Parking ticket given in different counties', fontsize=16);"
   ]
  },
  {
   "cell_type": "markdown",
   "metadata": {},
   "source": [
    "<br><br>We can see Manhattan files the maximum number of parking tickets followed by Brooklyn. Staten Island observes the least number of parking tickets issued.<br><br>"
   ]
  },
  {
   "cell_type": "markdown",
   "metadata": {},
   "source": [
    "### Analyzing on basis of months\n",
    "There are time in a year when we see fewer cars on the road than normal. Is that really true in a city like NY?<br><br>"
   ]
  },
  {
   "cell_type": "code",
   "execution_count": 17,
   "metadata": {},
   "outputs": [],
   "source": [
    "issue_month = dataset"
   ]
  },
  {
   "cell_type": "code",
   "execution_count": 18,
   "metadata": {},
   "outputs": [],
   "source": [
    "issue_month = issue_month[['Issue Month']]"
   ]
  },
  {
   "cell_type": "code",
   "execution_count": 19,
   "metadata": {},
   "outputs": [
    {
     "data": {
      "image/png": "[encoded data removed]",
      "text/plain": [
       "<matplotlib.figure.Figure at 0x2b46768f9e8>"
      ]
     },
     "metadata": {},
     "output_type": "display_data"
    }
   ],
   "source": [
    "issue_month = issue_month['Issue Month'].value_counts()\n",
    "\n",
    "plt.figure(figsize=(10,6))\n",
    "issue = sns.barplot(y=issue_month.values, x=issue_month.index, palette=\"Blues_d\")\n",
    "# remove labels\n",
    "plt.tick_params(labelbottom='on')\n",
    "plt.ylabel('No. of tickets issued', fontsize=16);\n",
    "plt.xlabel('Month', fontsize=16);\n",
    "plt.title('Parking ticket given in different counties', fontsize=16);"
   ]
  },
  {
   "cell_type": "markdown",
   "metadata": {},
   "source": [
    "Maximum tickets were issued in the month on June with the least in July"
   ]
  },
  {
   "cell_type": "markdown",
   "metadata": {},
   "source": [
    "### Analyzing with respect to the violation code\n",
    "\n",
    "There are codes given to every violation and on the basis of these violations a ticket is issued to the violator. We have a list of violation code with the description and will try to analyze which are the 10 most violations observed in the New York City.<br><br>\n",
    "These codes can be found on [Violation code description](https://www1.nyc.gov/assets/finance_2016/downloads/pdf/translations/got_tickets_english.pdf)\n",
    "<br><br>"
   ]
  },
  {
   "cell_type": "code",
   "execution_count": 20,
   "metadata": {},
   "outputs": [],
   "source": [
    "violation_code = dataset"
   ]
  },
  {
   "cell_type": "code",
   "execution_count": 21,
   "metadata": {},
   "outputs": [],
   "source": [
    "violation_code = violation_code[['Violation Code']]"
   ]
  },
  {
   "cell_type": "code",
   "execution_count": 22,
   "metadata": {},
   "outputs": [
    {
     "data": {
      "image/png": "[encoded data removed]",
      "text/plain": [
       "<matplotlib.figure.Figure at 0x2b452c3f860>"
      ]
     },
     "metadata": {},
     "output_type": "display_data"
    }
   ],
   "source": [
    "violation_code = violation_code['Violation Code'].value_counts().nlargest(10)\n",
    "\n",
    "plt.figure(figsize=(18,6))\n",
    "code = sns.barplot(y=violation_code.values, x=violation_code.index, palette=\"Blues_d\")\n",
    "# remove labels\n",
    "plt.tick_params(labelbottom='on')\n",
    "plt.ylabel('No. of tickets issued', fontsize=16);\n",
    "plt.xlabel('Violation code', fontsize=16);\n",
    "plt.title('Parking ticket given in different counties', fontsize=16);"
   ]
  },
  {
   "cell_type": "markdown",
   "metadata": {},
   "source": [
    "Violation code description for the 10 most observed violation:\n",
    "\n",
    "07 FAILURE TO STOP AT RED LIGHT  <br>\n",
    "14  STANDING-DAY/TIME LIMITS- NO STD-LIMITS<br>\n",
    "20 PARKING-DAY/TIME LIMITS    NO PRKG-LIMITS<br>\n",
    "21 NO PARKING-STREET CLEANING    NO PKG-STR CLN<br>\n",
    "36 PHTO SCHOOL ZN SPEED VIOLATIONSCHL ZN SPD VIO<br>\n",
    "37 EXPIRED MUNI METER            EXPIRE MUNIMETE<br>\n",
    "38 FAIL TO DSPLY MUNI METER RECPTFAIL DSPLY RECT<br>\n",
    "40 FIRE HYDRANT                  <br>\n",
    "46 DOUBLE PARKING                <br>\n",
    "71 INSP. STICKER-EXPIRED/MISSING EXP/MSG INSP ST<br>"
   ]
  },
  {
   "cell_type": "markdown",
   "metadata": {},
   "source": [
    "<br><br>\n",
    "We can see Speed violation tickets have been issued the most. Followed by it are the tickets issued because of limited parking space available in the city. The government can build more parking garages. We can see one initiative made by the government to support the people by introducing payment of meters through apps. We can have many more initiatives like keeping a track of which meter spots are available and making some spot available for reservation with restrictions applied. <br><br>"
   ]
  },
  {
   "cell_type": "markdown",
   "metadata": {},
   "source": [
    "## Can the same vehicle have more tickets issued and to which vehicle type does this vehicle belong?"
   ]
  },
  {
   "cell_type": "code",
   "execution_count": 23,
   "metadata": {},
   "outputs": [],
   "source": [
    "plate = dataset"
   ]
  },
  {
   "cell_type": "code",
   "execution_count": 24,
   "metadata": {},
   "outputs": [],
   "source": [
    "plate = plate[['Plate ID', 'Vehicle Body Type']]"
   ]
  },
  {
   "cell_type": "code",
   "execution_count": 25,
   "metadata": {},
   "outputs": [],
   "source": [
    "plate =plate[['Plate ID', 'Vehicle Body Type']].groupby(['Plate ID', 'Vehicle Body Type']).size().nlargest(30)"
   ]
  },
  {
   "cell_type": "code",
   "execution_count": 26,
   "metadata": {},
   "outputs": [
    {
     "data": {
      "text/plain": [
       "Plate ID  Vehicle Body Type\n",
       "85848MD   VAN                  947\n",
       "96087MA   VAN                  914\n",
       "47603MD   DELV                 890\n",
       "14828MJ   VAN                  867\n",
       "30954JX   VAN                  831\n",
       "14881MJ   VAN                  824\n",
       "12359MG   VAN                  816\n",
       "63521JM   VAN                  803\n",
       "35253MB   DELV                 782\n",
       "96089MA   VAN                  769\n",
       "14829MJ   VAN                  766\n",
       "49282KA   VAN                  765\n",
       "77116MA   VAN                  756\n",
       "85829JB   DELV                 739\n",
       "37603JH   VAN                  733\n",
       "85993MD   VAN                  728\n",
       "12817KA   VAN                  727\n",
       "52968MD   VAN                  716\n",
       "47832MD   DELV                 715\n",
       "49731MA   DELV                 709\n",
       "12866KA   VAN                  708\n",
       "28673MH   VAN                  708\n",
       "97036JE   VAN                  704\n",
       "91646MC   VAN                  699\n",
       "52969MD   VAN                  692\n",
       "49216KA   VAN                  688\n",
       "16242TC   TRAC                 684\n",
       "94905JA   DELV                 684\n",
       "56253MG   VAN                  682\n",
       "13663MD   DELV                 680\n",
       "dtype: int64"
      ]
     },
     "execution_count": 26,
     "metadata": {},
     "output_type": "execute_result"
    }
   ],
   "source": [
    "plate"
   ]
  },
  {
   "cell_type": "markdown",
   "metadata": {},
   "source": [
    "We observe that there are various vehicles which have at an average tickets issued more than two times in a day. These are mainly van truck or delivery truck. Both the vehicles come under the category used mainly for delivering or moving purposes. Having tickets issued more than twice in a day means they have been moving around very often and hence are owned by mailing agencies. Government can regulate these agencies and have a deal in order to control the number of violations. "
   ]
  },
  {
   "cell_type": "markdown",
   "metadata": {},
   "source": [
    "<br><br>\n",
    "<b>Conclusion:</b>\n",
    "\n",
    "There is no ending to violations but authorities can definitely strick a deal with the mailing and moving agencies to control the violation tickets issued. They also should plan on effective parking space availability at a reasonable cost specially in Manhattan and Brooklyn.<br>"
   ]
  }
 ],
 "metadata": {
  "kernelspec": {
   "display_name": "Python 3",
   "language": "python",
   "name": "python3"
  },
  "language_info": {
   "codemirror_mode": {
    "name": "ipython",
    "version": 3
   },
   "file_extension": ".py",
   "mimetype": "text/x-python",
   "name": "python",
   "nbconvert_exporter": "python",
   "pygments_lexer": "ipython3",
   "version": "3.6.4"
  }
 },
 "nbformat": 4,
 "nbformat_minor": 2
}
